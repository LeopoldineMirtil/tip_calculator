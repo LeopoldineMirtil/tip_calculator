{
 "cells": [
  {
   "cell_type": "code",
   "execution_count": 9,
   "id": "c1a4f9c7",
   "metadata": {},
   "outputs": [
    {
     "name": "stdout",
     "output_type": "stream",
     "text": [
      "The total bill is $164.25.\n",
      "Included in the total is the $146.00 bill.\n",
      "And the 0.125% tip leading to a $18.25 tip.\n",
      "The total bill amount is $164.25 including a 0.125% tip.\n",
      "With a party of 8, the amount owed per person is $20.53\n"
     ]
    }
   ],
   "source": [
    "#Tip incl splitting the bill\n",
    "bill = float(input(\"Enter the bill amt: $\"))\n",
    "tip = float(input(\"Enter the % tip: \"))\n",
    "party_no = int(input(\"Enter the number of people in the party: \"))\n",
    "\n",
    "tip_perc = tip / 100\n",
    "tip_amt = bill * tip_perc\n",
    "\n",
    "total = bill + tip_amt\n",
    "amt_per_pers = total / party_no\n",
    "\n",
    "print(f\"The total bill amount will be ${total:.2f} including a {tip}% tip.\")\n",
    "print(f\"Included in the total is the ${bill:.2f} bill and a ${tip_amt:.2f} tip.\")\n",
    "\n",
    "print(f\"With a party of {party_no}, the amount owed per person is ${amt_per_pers:.2f}\")"
   ]
  }
 ],
 "metadata": {
  "kernelspec": {
   "display_name": "Python 3 (ipykernel)",
   "language": "python",
   "name": "python3"
  },
  "language_info": {
   "codemirror_mode": {
    "name": "ipython",
    "version": 3
   },
   "file_extension": ".py",
   "mimetype": "text/x-python",
   "name": "python",
   "nbconvert_exporter": "python",
   "pygments_lexer": "ipython3",
   "version": "3.12.1"
  }
 },
 "nbformat": 4,
 "nbformat_minor": 5
}
