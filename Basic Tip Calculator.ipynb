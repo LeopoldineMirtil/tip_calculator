{
 "cells": [
  {
   "cell_type": "code",
   "execution_count": 11,
   "id": "70cc8788",
   "metadata": {},
   "outputs": [
    {
     "name": "stdout",
     "output_type": "stream",
     "text": [
      "The total bill amount will be $13.44 including a 12.0% tip:\n",
      "$12.00 for the meal\n",
      "$1.44 for the tip\n"
     ]
    }
   ],
   "source": [
    "amt = float(input(\"Please enter the bill amount: $\"))\n",
    "\n",
    "tip_perc = float(input(\"Please enter the tip percentage: \")) /100\n",
    "\n",
    "tip_amt = amt * tip_perc \n",
    "\n",
    "total = amt + tip_amt\n",
    "\n",
    "print(f\"The total bill amount will be ${total:.2f} including a {tip_perc*100}% tip:\\n${amt:.2f} for the meal\\n${tip_amt:.2f} for the tip\")"
   ]
  }
 ],
 "metadata": {
  "kernelspec": {
   "display_name": "Python 3 (ipykernel)",
   "language": "python",
   "name": "python3"
  },
  "language_info": {
   "codemirror_mode": {
    "name": "ipython",
    "version": 3
   },
   "file_extension": ".py",
   "mimetype": "text/x-python",
   "name": "python",
   "nbconvert_exporter": "python",
   "pygments_lexer": "ipython3",
   "version": "3.12.1"
  }
 },
 "nbformat": 4,
 "nbformat_minor": 5
}
